{
 "cells": [
  {
   "cell_type": "markdown",
   "id": "b28ef942",
   "metadata": {},
   "source": [
    "https://www.meetup.com/PyData-PDX/events/280454606"
   ]
  },
  {
   "cell_type": "markdown",
   "id": "95d391c4",
   "metadata": {
    "execution": {
     "iopub.execute_input": "2021-09-06T01:28:56.476451Z",
     "iopub.status.busy": "2021-09-06T01:28:56.476100Z",
     "iopub.status.idle": "2021-09-06T01:28:56.480989Z",
     "shell.execute_reply": "2021-09-06T01:28:56.480110Z",
     "shell.execute_reply.started": "2021-09-06T01:28:56.476426Z"
    }
   },
   "source": [
    "http://xarray.pydata.org/en/stable/"
   ]
  },
  {
   "cell_type": "markdown",
   "id": "98bd5557",
   "metadata": {},
   "source": [
    "https://sites.google.com/view/raybellwaves/cheat-sheets/xarray"
   ]
  },
  {
   "cell_type": "markdown",
   "id": "68f6b16c",
   "metadata": {},
   "source": [
    "https://github.com/pydata/xarray/discussions"
   ]
  },
  {
   "cell_type": "markdown",
   "id": "7868ffe1",
   "metadata": {},
   "source": [
    "https://discourse.pangeo.io/"
   ]
  },
  {
   "cell_type": "markdown",
   "id": "6823054d",
   "metadata": {},
   "source": [
    "# Let's learn xarray by answering some questions with weather data:\n",
    "\n",
    " - Q1. How hot did it get in Portland, Oregeon this summer?\n",
    " - Q2. How much hotter was that compared to last year?\n",
    " - Q3. During the peak of the heatwave where else in the world was hotter than Portland?"
   ]
  },
  {
   "cell_type": "markdown",
   "id": "c5bd0b61",
   "metadata": {},
   "source": [
    "# Get a temperature dataset for Portland (xarray advanced)"
   ]
  },
  {
   "cell_type": "code",
   "execution_count": null,
   "id": "4bfdfe4a",
   "metadata": {
    "tags": []
   },
   "outputs": [],
   "source": [
    "files = []\n",
    "\n",
    "import xarray as xr\n",
    "\n",
    "for dt in xr.cftime_range(\"2020-01\", \"2021-08\", freq=\"M\"):\n",
    "    files.append(\n",
    "        f\"s3://era5-pds/zarr/{dt:%Y}/{dt:%m}/data/air_temperature_at_2_metres.zarr\"\n",
    "    )\n",
    "\n",
    "from geopy.geocoders import Photon\n",
    "\n",
    "geolocator = Photon()\n",
    "location = geolocator.geocode(\"Portland, Oregon\")\n",
    "print(location)\n",
    "lat = location.point.latitude\n",
    "lon = location.point.longitude + 360\n",
    "print(lat, lon)\n",
    "\n",
    "\n",
    "def select_location(ds: xr.Dataset) -> xr.Dataset:\n",
    "    return ds.sel(lat=lat, lon=lon, method=\"nearest\")\n",
    "\n",
    "\n",
    "import cf_xarray.units\n",
    "import pint_xarray\n",
    "from tqdm.dask import TqdmCallback\n",
    "\n",
    "TqdmCallback(desc=\"dask tasks\").register()\n",
    "\n",
    "portland_ds = (\n",
    "    xr.open_mfdataset(\n",
    "        files,\n",
    "        engine=\"zarr\",\n",
    "        backend_kwargs=dict(storage_options={\"anon\": True}),\n",
    "        parallel=True,\n",
    "        preprocess=select_location,\n",
    "    )\n",
    "    .compute()\n",
    "    .pint.quantify()\n",
    "    .pint.to(\"degF\")\n",
    ")\n",
    "portland_ds = portland_ds.pint.dequantify(format=\"~P\")\n",
    "\n",
    "from timezonefinder import TimezoneFinder\n",
    "\n",
    "tz = TimezoneFinder().timezone_at(lng=location.point.longitude, lat=lat)\n",
    "print(tz)\n",
    "import cf_xarray\n",
    "\n",
    "time_dim_name = portland_ds.cf[\"time\"].name\n",
    "time_dim_attrs = portland_ds.cf[\"time\"].attrs\n",
    "portland_ds = portland_ds.assign_coords(\n",
    "    {\n",
    "        time_dim_name: portland_ds[time_dim_name]\n",
    "        .to_index()\n",
    "        .tz_localize(\"UTC\")\n",
    "        .tz_convert(tz)\n",
    "        .tz_localize(None)\n",
    "        .to_numpy()\n",
    "    }\n",
    ")\n",
    "portland_ds[time_dim_name].attrs = time_dim_attrs"
   ]
  },
  {
   "cell_type": "code",
   "execution_count": null,
   "id": "deb65e1d",
   "metadata": {
    "tags": []
   },
   "outputs": [],
   "source": [
    "type(portland_ds)"
   ]
  },
  {
   "cell_type": "markdown",
   "id": "b9980bbe",
   "metadata": {},
   "source": [
    "http://xarray.pydata.org/en/stable/generated/xarray.Dataset.html"
   ]
  },
  {
   "cell_type": "code",
   "execution_count": null,
   "id": "e1eb16fb",
   "metadata": {
    "tags": []
   },
   "outputs": [],
   "source": [
    "portland_ds"
   ]
  },
  {
   "cell_type": "markdown",
   "id": "57786899",
   "metadata": {},
   "source": [
    "Firstly, you can transform the data to a format you are more familar with:"
   ]
  },
  {
   "cell_type": "code",
   "execution_count": null,
   "id": "b4531783",
   "metadata": {
    "tags": []
   },
   "outputs": [],
   "source": [
    "df = portland_ds.reset_coords(drop=True).to_dataframe()\n",
    "print(type(df))\n",
    "df"
   ]
  },
  {
   "cell_type": "code",
   "execution_count": null,
   "id": "b68f2752",
   "metadata": {
    "tags": []
   },
   "outputs": [],
   "source": [
    "arr = portland_ds[\"air_temperature_at_2_metres\"].values\n",
    "print(type(arr))\n",
    "arr"
   ]
  },
  {
   "cell_type": "markdown",
   "id": "42fdd729",
   "metadata": {},
   "source": [
    "You can also do the inverse of the transformations:"
   ]
  },
  {
   "cell_type": "code",
   "execution_count": null,
   "id": "aebd7e88",
   "metadata": {
    "tags": []
   },
   "outputs": [],
   "source": [
    "df.to_xarray()"
   ]
  },
  {
   "cell_type": "markdown",
   "id": "bc47a0f0",
   "metadata": {},
   "source": [
    "https://pandas.pydata.org/docs/reference/api/pandas.DataFrame.to_xarray.html"
   ]
  },
  {
   "cell_type": "code",
   "execution_count": null,
   "id": "c9942f1f",
   "metadata": {
    "tags": []
   },
   "outputs": [],
   "source": [
    "da = xr.DataArray(arr)\n",
    "da"
   ]
  },
  {
   "cell_type": "markdown",
   "id": "475b9705",
   "metadata": {},
   "source": [
    "http://xarray.pydata.org/en/stable/generated/xarray.DataArray.html"
   ]
  },
  {
   "cell_type": "code",
   "execution_count": null,
   "id": "8809ce8c",
   "metadata": {
    "tags": []
   },
   "outputs": [],
   "source": [
    "da.to_dataset(name=\"arr\")"
   ]
  },
  {
   "cell_type": "markdown",
   "id": "775509e4",
   "metadata": {},
   "source": [
    "# Q1. How hot did it get in Portland, Oregeon this summer?"
   ]
  },
  {
   "cell_type": "markdown",
   "id": "34c8eae2",
   "metadata": {},
   "source": [
    "Visualize the data using xarray's plotting capability (http://xarray.pydata.org/en/stable/user-guide/plotting.html):"
   ]
  },
  {
   "cell_type": "code",
   "execution_count": null,
   "id": "4c1e6486",
   "metadata": {
    "tags": []
   },
   "outputs": [],
   "source": [
    "portland_ds[\"air_temperature_at_2_metres\"].plot()"
   ]
  },
  {
   "cell_type": "markdown",
   "id": "40ad8998",
   "metadata": {
    "execution": {
     "iopub.execute_input": "2021-09-08T19:00:27.051272Z",
     "iopub.status.busy": "2021-09-08T19:00:27.050997Z",
     "iopub.status.idle": "2021-09-08T19:00:27.056562Z",
     "shell.execute_reply": "2021-09-08T19:00:27.055455Z",
     "shell.execute_reply.started": "2021-09-08T19:00:27.051245Z"
    }
   },
   "source": [
    "Create a quick interactive plot using hvplot (https://hvplot.holoviz.org/)"
   ]
  },
  {
   "cell_type": "code",
   "execution_count": null,
   "id": "4987c45b",
   "metadata": {
    "tags": []
   },
   "outputs": [],
   "source": [
    "import hvplot.xarray\n",
    "\n",
    "portland_ds.hvplot()"
   ]
  },
  {
   "cell_type": "code",
   "execution_count": null,
   "id": "14b915c2",
   "metadata": {
    "tags": []
   },
   "outputs": [],
   "source": [
    "portland_ds.max()"
   ]
  },
  {
   "cell_type": "markdown",
   "id": "e46fff49",
   "metadata": {},
   "source": [
    "Query a Dataset on a value"
   ]
  },
  {
   "cell_type": "code",
   "execution_count": null,
   "id": "8e399c7c",
   "metadata": {
    "tags": []
   },
   "outputs": [],
   "source": [
    "hot_ds = portland_ds.where(portland_ds == portland_ds.max(), drop=True)\n",
    "hot_ds"
   ]
  },
  {
   "cell_type": "markdown",
   "id": "64cfea3d",
   "metadata": {},
   "source": [
    "## A1. How hot did it get in Portland, Oregeon this summer?"
   ]
  },
  {
   "cell_type": "code",
   "execution_count": null,
   "id": "dcba8319",
   "metadata": {
    "tags": []
   },
   "outputs": [],
   "source": [
    "ts = hot_ds[\"time0\"].to_index().tz_localize(tz).to_pydatetime()[0]\n",
    "max_temp = hot_ds[\"air_temperature_at_2_metres\"].values[0]\n",
    "units = hot_ds[\"air_temperature_at_2_metres\"].attrs[\"units\"]\n",
    "print(\n",
    "    f\"The max tempetaure in Portland, Oregeon this summer was {max_temp:.2f} {units} on {ts}\"\n",
    ")"
   ]
  },
  {
   "cell_type": "markdown",
   "id": "2e6c2f1c",
   "metadata": {
    "execution": {
     "iopub.execute_input": "2021-09-07T02:49:30.998875Z",
     "iopub.status.busy": "2021-09-07T02:49:30.998302Z",
     "iopub.status.idle": "2021-09-07T02:49:31.002359Z",
     "shell.execute_reply": "2021-09-07T02:49:31.001294Z",
     "shell.execute_reply.started": "2021-09-07T02:49:30.998841Z"
    }
   },
   "source": [
    "# Q2. How much hotter was that compared to last year?"
   ]
  },
  {
   "cell_type": "code",
   "execution_count": null,
   "id": "8734a10c",
   "metadata": {
    "tags": []
   },
   "outputs": [],
   "source": [
    "da = portland_ds[\"air_temperature_at_2_metres\"]\n",
    "da"
   ]
  },
  {
   "cell_type": "code",
   "execution_count": null,
   "id": "3aa66d02",
   "metadata": {
    "tags": []
   },
   "outputs": [],
   "source": [
    "g = da.groupby(\"time0.year\").max()\n",
    "g"
   ]
  },
  {
   "cell_type": "markdown",
   "id": "e0f79df3",
   "metadata": {},
   "source": [
    "http://xarray.pydata.org/en/stable/user-guide/groupby.html"
   ]
  },
  {
   "cell_type": "code",
   "execution_count": null,
   "id": "292b7141",
   "metadata": {
    "tags": []
   },
   "outputs": [],
   "source": [
    "g.sel(year=2021) - g.sel(year=2020)"
   ]
  },
  {
   "cell_type": "markdown",
   "id": "db899f24",
   "metadata": {},
   "source": [
    "http://xarray.pydata.org/en/stable/user-guide/indexing.html?highlight=indexing"
   ]
  },
  {
   "cell_type": "markdown",
   "id": "9a170915",
   "metadata": {},
   "source": [
    "## A2. How much hotter was that compared to last year?"
   ]
  },
  {
   "cell_type": "code",
   "execution_count": null,
   "id": "e957b340",
   "metadata": {
    "tags": []
   },
   "outputs": [],
   "source": [
    "diff = (g.sel(year=2021) - g.sel(year=2020)).values\n",
    "\n",
    "from sklearn.metrics import mean_absolute_percentage_error\n",
    "\n",
    "mape = (\n",
    "    mean_absolute_percentage_error(\n",
    "        [g.sel(year=2021).to_numpy()],\n",
    "        [g.sel(year=2020).to_numpy()],\n",
    "    )\n",
    "    * 100\n",
    ")\n",
    "\n",
    "print(f\"The peak temeperature different between 2021 and 2020 was {diff:.2f} {units}\")\n",
    "print(f\"That's {mape:.2f} percent hotter\")"
   ]
  },
  {
   "cell_type": "markdown",
   "id": "b8f40060",
   "metadata": {},
   "source": [
    "# Q3. During the peak of the heatwave where else in the world was hotter than Portland?"
   ]
  },
  {
   "cell_type": "code",
   "execution_count": null,
   "id": "062a3069",
   "metadata": {
    "tags": []
   },
   "outputs": [],
   "source": [
    "import pytz\n",
    "\n",
    "dt_utc = ts.astimezone(pytz.timezone(\"UTC\")).replace(tzinfo=None)\n",
    "\n",
    "da_ts = (\n",
    "    xr.open_zarr(\n",
    "        f\"s3://era5-pds/zarr/{dt_utc:%Y}/{dt_utc:%m}/data/air_temperature_at_2_metres.zarr\",\n",
    "        storage_options={\"anon\": True},\n",
    "    )[\"air_temperature_at_2_metres\"].sel(time0=dt_utc)\n",
    ").compute()\n",
    "da_ts"
   ]
  },
  {
   "cell_type": "markdown",
   "id": "1d3595f3",
   "metadata": {},
   "source": [
    "Convert degrees Kelvin to degrees Fahrenheit using https://pint-xarray.readthedocs.io/en/latest/"
   ]
  },
  {
   "cell_type": "code",
   "execution_count": null,
   "id": "32197fc4",
   "metadata": {
    "tags": []
   },
   "outputs": [],
   "source": [
    "da_ts = da_ts.pint.quantify().pint.to(\"degF\").pint.dequantify(format=\"~P\")"
   ]
  },
  {
   "cell_type": "markdown",
   "id": "6e2dde02",
   "metadata": {},
   "source": [
    "Convert longitude from 0 - 360 to -180 - 180"
   ]
  },
  {
   "cell_type": "code",
   "execution_count": null,
   "id": "7b3e0fa9",
   "metadata": {
    "tags": []
   },
   "outputs": [],
   "source": [
    "with xr.set_options(keep_attrs=True):\n",
    "    da_ts = da_ts.assign_coords({\"lon\": (((da_ts[\"lon\"] + 180) % 360) - 180)}).sortby(\n",
    "        \"lon\"\n",
    "    )"
   ]
  },
  {
   "cell_type": "markdown",
   "id": "0b26047f",
   "metadata": {
    "execution": {
     "iopub.execute_input": "2021-09-08T02:14:58.758749Z",
     "iopub.status.busy": "2021-09-08T02:14:58.758505Z",
     "iopub.status.idle": "2021-09-08T02:14:58.763826Z",
     "shell.execute_reply": "2021-09-08T02:14:58.762710Z",
     "shell.execute_reply.started": "2021-09-08T02:14:58.758724Z"
    }
   },
   "source": [
    "Reindex latitude to from 90 - -90 to -90 - 90 "
   ]
  },
  {
   "cell_type": "code",
   "execution_count": null,
   "id": "bd65f089",
   "metadata": {
    "tags": []
   },
   "outputs": [],
   "source": [
    "da_ts = da_ts.reindex({\"lat\": da_ts[\"lat\"][::-1]})\n",
    "da_ts"
   ]
  },
  {
   "cell_type": "markdown",
   "id": "65879c06",
   "metadata": {},
   "source": [
    "Check the data was read in correctly:"
   ]
  },
  {
   "cell_type": "code",
   "execution_count": null,
   "id": "de3ed473",
   "metadata": {},
   "outputs": [],
   "source": [
    "da_ts.sel(lat=lat, lon=lon - 360, method=\"nearest\")"
   ]
  },
  {
   "cell_type": "markdown",
   "id": "544a9e93",
   "metadata": {},
   "source": [
    "Plot the spatial data using cartopy:"
   ]
  },
  {
   "cell_type": "code",
   "execution_count": null,
   "id": "93c7a2ab",
   "metadata": {
    "tags": []
   },
   "outputs": [],
   "source": [
    "import cartopy.crs as ccrs\n",
    "import matplotlib.pyplot as plt\n",
    "\n",
    "plt.figure(figsize=(16, 8))\n",
    "ax = plt.subplot(projection=ccrs.PlateCarree())\n",
    "da_ts.plot(ax=ax, cmap=plt.cm.viridis)\n",
    "ax.coastlines()\n",
    "ax.gridlines(draw_labels=True);"
   ]
  },
  {
   "cell_type": "markdown",
   "id": "47b54340",
   "metadata": {},
   "source": [
    "Create an interactive map using Geoviews https://geoviews.org/index.html"
   ]
  },
  {
   "cell_type": "code",
   "execution_count": null,
   "id": "952d46cf",
   "metadata": {
    "tags": []
   },
   "outputs": [],
   "source": [
    "import geoviews as gv\n",
    "\n",
    "gv_da_ts = gv.Dataset(da_ts)\n",
    "gv_img = gv_da_ts.to(gv.Image, kdims=[\"lon\", \"lat\"])\n",
    "\n",
    "from holoviews.operation.datashader import rasterize\n",
    "\n",
    "gv_raster = rasterize(gv_img)\n",
    "\n",
    "# Download a populous city dataset\n",
    "import geopandas as gpd\n",
    "\n",
    "cities = gpd.read_file(\n",
    "    \"https://naturalearth.s3.amazonaws.com/10m_cultural/ne_10m_populated_places.zip\"\n",
    ")[[\"NAME\", \"geometry\"]]\n",
    "gv_pts = gv.Points(cities)\n",
    "\n",
    "# Overlay layers: raster (temperature), coastlines, country boarders, state boarders, capital cities\n",
    "# with custom plotting options\n",
    "import geoviews.feature as gf\n",
    "\n",
    "gv_raster.opts(\n",
    "    tools=[\"hover\"],\n",
    "    width=1000,\n",
    "    height=600,\n",
    "    cmap=plt.cm.viridis.name,\n",
    "    colorbar=True,\n",
    "    colorbar_position=\"right\",\n",
    ") * gf.coastline() * gf.borders() * gf.states(color=None) * gv_pts.opts(\n",
    "    tools=[\"hover\"], color=\"black\", size=2\n",
    ")"
   ]
  },
  {
   "cell_type": "markdown",
   "id": "7c2b5fae",
   "metadata": {},
   "source": [
    "Flatten the 2d array to 1d"
   ]
  },
  {
   "cell_type": "code",
   "execution_count": null,
   "id": "aab9d7a2",
   "metadata": {
    "tags": []
   },
   "outputs": [],
   "source": [
    "da_ts_1d = da_ts.stack({\"point\": [\"lat\", \"lon\"]})\n",
    "da_ts_1d"
   ]
  },
  {
   "cell_type": "markdown",
   "id": "8a3ec086",
   "metadata": {},
   "source": [
    "sort values"
   ]
  },
  {
   "cell_type": "code",
   "execution_count": null,
   "id": "c18e594f",
   "metadata": {
    "tags": []
   },
   "outputs": [],
   "source": [
    "da_ts_1d_sorted = da_ts_1d.sortby(da_ts_1d)\n",
    "da_ts_1d_sorted"
   ]
  },
  {
   "cell_type": "markdown",
   "id": "e48cb3b4",
   "metadata": {},
   "source": [
    "Keep values greater than the temperature in portland"
   ]
  },
  {
   "cell_type": "code",
   "execution_count": null,
   "id": "c44088d9",
   "metadata": {
    "tags": []
   },
   "outputs": [],
   "source": [
    "da_ts_1d_sorted.where(da_ts_1d_sorted >= max_temp, drop=True)"
   ]
  },
  {
   "cell_type": "code",
   "execution_count": null,
   "id": "3ea4b93f",
   "metadata": {
    "tags": []
   },
   "outputs": [],
   "source": [
    "points_hotter_than_portland = da_ts_1d_sorted.where(\n",
    "    da_ts_1d_sorted >= max_temp, drop=True\n",
    ")\n",
    "points_hotter_than_portland"
   ]
  },
  {
   "cell_type": "markdown",
   "id": "00307799",
   "metadata": {},
   "source": [
    "## A3. During the peak of the heatwave where else in the world was hotter than Portland?"
   ]
  },
  {
   "cell_type": "code",
   "execution_count": null,
   "id": "a9c9c59b",
   "metadata": {
    "tags": []
   },
   "outputs": [],
   "source": [
    "locs = []\n",
    "for p in points_hotter_than_portland[\"point\"].values:\n",
    "    loc = geolocator.reverse(p)\n",
    "    if \"Portland\" not in str(loc):\n",
    "        print(\"y\")\n",
    "        locs.append(loc)\n",
    "if len(locs) == 0:\n",
    "    print(\"Nowhere!\")"
   ]
  },
  {
   "cell_type": "code",
   "execution_count": null,
   "id": "a27e5a5b",
   "metadata": {},
   "outputs": [],
   "source": []
  }
 ],
 "metadata": {
  "kernelspec": {
   "display_name": "Python 3 (ipykernel)",
   "language": "python",
   "name": "python3"
  },
  "language_info": {
   "codemirror_mode": {
    "name": "ipython",
    "version": 3
   },
   "file_extension": ".py",
   "mimetype": "text/x-python",
   "name": "python",
   "nbconvert_exporter": "python",
   "pygments_lexer": "ipython3",
   "version": "3.9.7"
  },
  "toc-autonumbering": false
 },
 "nbformat": 4,
 "nbformat_minor": 5
}
