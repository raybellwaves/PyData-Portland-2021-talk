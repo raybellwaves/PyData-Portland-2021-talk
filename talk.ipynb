{
 "cells": [
  {
   "cell_type": "markdown",
   "id": "3b524265-e10e-4bee-a823-023aad385c28",
   "metadata": {},
   "source": [
    "https://www.meetup.com/PyData-PDX/events/280454606"
   ]
  },
  {
   "cell_type": "markdown",
   "id": "db57ffec-075c-4273-a245-0baf019564c5",
   "metadata": {
    "execution": {
     "iopub.execute_input": "2021-09-06T01:28:56.476451Z",
     "iopub.status.busy": "2021-09-06T01:28:56.476100Z",
     "iopub.status.idle": "2021-09-06T01:28:56.480989Z",
     "shell.execute_reply": "2021-09-06T01:28:56.480110Z",
     "shell.execute_reply.started": "2021-09-06T01:28:56.476426Z"
    }
   },
   "source": [
    "http://xarray.pydata.org/en/stable/"
   ]
  },
  {
   "cell_type": "markdown",
   "id": "f3dc9bda-b50c-4e16-90ac-cc8835c18aab",
   "metadata": {},
   "source": [
    "# Let's learn xarray by answering some questions with weather data:\n",
    "\n",
    " - Q1. How hot did it get in Portland, Oregeon this summer?\n",
    " - Q2. How much hotter was that compared to last year?\n",
    " - Q3. During the peak of the heatwave where else in the world was hotter than Portland?"
   ]
  },
  {
   "cell_type": "markdown",
   "id": "a50d5430-a251-47a9-af17-4f431128dfc6",
   "metadata": {},
   "source": [
    "# Get a temperature dataset for Portland (xarray advanced)"
   ]
  },
  {
   "cell_type": "code",
   "execution_count": null,
   "id": "75ef9027-00a2-4ed8-b9be-1ccb313160fb",
   "metadata": {
    "tags": []
   },
   "outputs": [],
   "source": [
    "files = []\n",
    "\n",
    "import xarray as xr\n",
    "\n",
    "for dt in xr.cftime_range(\"2020-01\", \"2021-08\", freq=\"M\"):\n",
    "    files.append(\n",
    "        f\"s3://era5-pds/zarr/{dt:%Y}/{dt:%m}/data/air_temperature_at_2_metres.zarr\"\n",
    "    )\n",
    "\n",
    "from geopy.geocoders import Photon\n",
    "\n",
    "geolocator = Photon()\n",
    "location = geolocator.geocode(\"Portland, Oregon\")\n",
    "print(location)\n",
    "lat = location.point.latitude\n",
    "lon = location.point.longitude + 360\n",
    "print(lat, lon)\n",
    "\n",
    "\n",
    "def select_location(ds: xr.Dataset) -> xr.Dataset:\n",
    "    return ds.sel(lat=lat, lon=lon, method=\"nearest\")\n",
    "\n",
    "\n",
    "import cf_xarray.units\n",
    "import pint_xarray\n",
    "from tqdm.dask import TqdmCallback\n",
    "\n",
    "TqdmCallback(desc=\"dask tasks\").register()\n",
    "\n",
    "portland_ds = (\n",
    "    xr.open_mfdataset(\n",
    "        files,\n",
    "        engine=\"zarr\",\n",
    "        backend_kwargs=dict(storage_options={\"anon\": True}),\n",
    "        parallel=True,\n",
    "        preprocess=select_location,\n",
    "    )\n",
    "    .compute()\n",
    "    .pint.quantify()\n",
    "    .pint.to(\"degF\")\n",
    ")\n",
    "portland_ds = portland_ds.pint.dequantify(format=\"~P\")\n",
    "\n",
    "from timezonefinder import TimezoneFinder\n",
    "\n",
    "tz = TimezoneFinder().timezone_at(lng=location.point.longitude, lat=lat)\n",
    "print(tz)\n",
    "import cf_xarray\n",
    "\n",
    "time_dim_name = portland_ds.cf[\"time\"].name\n",
    "time_dim_attrs = portland_ds.cf[\"time\"].attrs\n",
    "portland_ds = portland_ds.assign_coords(\n",
    "    {\n",
    "        time_dim_name: portland_ds[time_dim_name]\n",
    "        .to_index()\n",
    "        .tz_localize(\"UTC\")\n",
    "        .tz_convert(tz)\n",
    "        .tz_localize(None)\n",
    "        .to_numpy()\n",
    "    }\n",
    ")\n",
    "portland_ds[time_dim_name].attrs = time_dim_attrs"
   ]
  },
  {
   "cell_type": "code",
   "execution_count": null,
   "id": "9f1c3c3b-c31a-4b8b-9187-4b34225c8219",
   "metadata": {
    "tags": []
   },
   "outputs": [],
   "source": [
    "type(portland_ds)"
   ]
  },
  {
   "cell_type": "markdown",
   "id": "de0462df-a51f-42b4-9bc1-7121b50a51f9",
   "metadata": {},
   "source": [
    "http://xarray.pydata.org/en/stable/generated/xarray.Dataset.html"
   ]
  },
  {
   "cell_type": "code",
   "execution_count": null,
   "id": "d99c14ee-428a-4bcb-bc72-dfef2cd391a8",
   "metadata": {
    "tags": []
   },
   "outputs": [],
   "source": [
    "portland_ds"
   ]
  },
  {
   "cell_type": "markdown",
   "id": "e52c1dd3-eca9-4fff-9514-a490269a309b",
   "metadata": {},
   "source": [
    "Firstly, you can transform the data to a format you are more familar with:"
   ]
  },
  {
   "cell_type": "code",
   "execution_count": null,
   "id": "2df9d022-959f-4ed0-8875-a896a3e86329",
   "metadata": {
    "tags": []
   },
   "outputs": [],
   "source": [
    "df = portland_ds.reset_coords(drop=True).to_dataframe()\n",
    "print(type(df))\n",
    "df"
   ]
  },
  {
   "cell_type": "code",
   "execution_count": null,
   "id": "c1e3ff87-efdc-48e1-a0f7-03da96cd9bd4",
   "metadata": {
    "tags": []
   },
   "outputs": [],
   "source": [
    "arr = portland_ds[\"air_temperature_at_2_metres\"].values\n",
    "print(type(arr))\n",
    "arr"
   ]
  },
  {
   "cell_type": "markdown",
   "id": "ad65e3d8-0037-41da-a1a3-1017f62d104f",
   "metadata": {},
   "source": [
    "You can also do the inverse of the transformations:"
   ]
  },
  {
   "cell_type": "code",
   "execution_count": null,
   "id": "3d53bb73-4be2-4738-80e6-743169b5b8f3",
   "metadata": {
    "tags": []
   },
   "outputs": [],
   "source": [
    "df.to_xarray()"
   ]
  },
  {
   "cell_type": "markdown",
   "id": "3a64d1f8-6480-4a10-bbcd-569e10c05aec",
   "metadata": {},
   "source": [
    "https://pandas.pydata.org/docs/reference/api/pandas.DataFrame.to_xarray.html"
   ]
  },
  {
   "cell_type": "code",
   "execution_count": null,
   "id": "9f6b217d-f141-4d81-8fcb-1957220edab0",
   "metadata": {
    "tags": []
   },
   "outputs": [],
   "source": [
    "da = xr.DataArray(arr)\n",
    "da"
   ]
  },
  {
   "cell_type": "markdown",
   "id": "4b088708-3cb0-4d6d-99ef-71e11e567d57",
   "metadata": {},
   "source": [
    "http://xarray.pydata.org/en/stable/generated/xarray.DataArray.html"
   ]
  },
  {
   "cell_type": "code",
   "execution_count": null,
   "id": "9355e1b7-43fb-497e-93da-ae93df26cfb4",
   "metadata": {
    "tags": []
   },
   "outputs": [],
   "source": [
    "da.to_dataset(name=\"arr\")"
   ]
  },
  {
   "cell_type": "markdown",
   "id": "ab58446a-031a-483e-87f9-cba714544683",
   "metadata": {},
   "source": [
    "# Q1. How hot did it get in Portland, Oregeon this summer?"
   ]
  },
  {
   "cell_type": "markdown",
   "id": "e21a9e70-49e9-4780-b2a5-453e26d20e2f",
   "metadata": {},
   "source": [
    "Visualize the data using xarray's plotting capability (http://xarray.pydata.org/en/stable/user-guide/plotting.html):"
   ]
  },
  {
   "cell_type": "code",
   "execution_count": null,
   "id": "b92792b8-d610-4c79-90b0-984a90aa9d67",
   "metadata": {
    "tags": []
   },
   "outputs": [],
   "source": [
    "portland_ds[\"air_temperature_at_2_metres\"].plot()"
   ]
  },
  {
   "cell_type": "markdown",
   "id": "f8d76fc9-6701-4929-a58b-70e6f3009ab2",
   "metadata": {
    "execution": {
     "iopub.execute_input": "2021-09-08T19:00:27.051272Z",
     "iopub.status.busy": "2021-09-08T19:00:27.050997Z",
     "iopub.status.idle": "2021-09-08T19:00:27.056562Z",
     "shell.execute_reply": "2021-09-08T19:00:27.055455Z",
     "shell.execute_reply.started": "2021-09-08T19:00:27.051245Z"
    }
   },
   "source": [
    "Create a quick interactive plot using hvplot (https://hvplot.holoviz.org/)"
   ]
  },
  {
   "cell_type": "code",
   "execution_count": null,
   "id": "44f2f86e-1e08-40da-8565-f4bc8522e213",
   "metadata": {
    "tags": []
   },
   "outputs": [],
   "source": [
    "import hvplot.xarray\n",
    "\n",
    "portland_ds.hvplot()"
   ]
  },
  {
   "cell_type": "code",
   "execution_count": null,
   "id": "80977352-3459-48b1-8986-746a2708e8d1",
   "metadata": {
    "tags": []
   },
   "outputs": [],
   "source": [
    "portland_ds.max()"
   ]
  },
  {
   "cell_type": "markdown",
   "id": "9b426875-df50-441e-95c0-d194a8076548",
   "metadata": {},
   "source": [
    "Query a Dataset on a value"
   ]
  },
  {
   "cell_type": "code",
   "execution_count": null,
   "id": "36a83f8a-a4d6-4377-95d9-dd12d2104ba0",
   "metadata": {
    "tags": []
   },
   "outputs": [],
   "source": [
    "hot_ds = portland_ds.where(portland_ds == portland_ds.max(), drop=True)\n",
    "hot_ds"
   ]
  },
  {
   "cell_type": "markdown",
   "id": "738548cc-1824-4b8f-b72b-d195a14afac4",
   "metadata": {},
   "source": [
    "## A1. How hot did it get in Portland, Oregeon this summer?"
   ]
  },
  {
   "cell_type": "code",
   "execution_count": null,
   "id": "e45cd22f-c9f7-4d4c-943f-e2aa82237fb6",
   "metadata": {
    "tags": []
   },
   "outputs": [],
   "source": [
    "ts = hot_ds[\"time0\"].to_index().tz_localize(tz).to_pydatetime()[0]\n",
    "max_temp = hot_ds[\"air_temperature_at_2_metres\"].values[0]\n",
    "units = hot_ds[\"air_temperature_at_2_metres\"].attrs[\"units\"]\n",
    "print(\n",
    "    f\"The max tempetaure in Portland, Oregeon this summer was {max_temp:.2f} {units} on {ts}\"\n",
    ")"
   ]
  },
  {
   "cell_type": "markdown",
   "id": "6feb4d17-08ec-4322-aa68-3fbe225501a5",
   "metadata": {
    "execution": {
     "iopub.execute_input": "2021-09-07T02:49:30.998875Z",
     "iopub.status.busy": "2021-09-07T02:49:30.998302Z",
     "iopub.status.idle": "2021-09-07T02:49:31.002359Z",
     "shell.execute_reply": "2021-09-07T02:49:31.001294Z",
     "shell.execute_reply.started": "2021-09-07T02:49:30.998841Z"
    }
   },
   "source": [
    "# Q2. How much hotter was that compared to last year?"
   ]
  },
  {
   "cell_type": "code",
   "execution_count": null,
   "id": "3fa63633-97fc-45a0-95b0-e754fa09f839",
   "metadata": {
    "tags": []
   },
   "outputs": [],
   "source": [
    "da = portland_ds[\"air_temperature_at_2_metres\"]\n",
    "da"
   ]
  },
  {
   "cell_type": "code",
   "execution_count": null,
   "id": "889096bb-50bb-4e92-8bbb-30b66d755517",
   "metadata": {
    "tags": []
   },
   "outputs": [],
   "source": [
    "g = da.groupby(\"time0.year\").max()\n",
    "g"
   ]
  },
  {
   "cell_type": "markdown",
   "id": "6835f7c7-1313-471b-acad-51ba28b0d6ca",
   "metadata": {},
   "source": [
    "http://xarray.pydata.org/en/stable/user-guide/groupby.html"
   ]
  },
  {
   "cell_type": "code",
   "execution_count": null,
   "id": "d7ec16c2-7ca7-4c6f-94d1-0b9e1fe6b140",
   "metadata": {
    "tags": []
   },
   "outputs": [],
   "source": [
    "g.sel(year=2021) - g.sel(year=2020)"
   ]
  },
  {
   "cell_type": "markdown",
   "id": "4719bec9-228b-4914-9c3d-053f9277a6ae",
   "metadata": {},
   "source": [
    "http://xarray.pydata.org/en/stable/user-guide/indexing.html?highlight=indexing"
   ]
  },
  {
   "cell_type": "markdown",
   "id": "bec6721b-7f9c-4776-a358-3ac8b1d968c2",
   "metadata": {},
   "source": [
    "## A2. How much hotter was that compared to last year?"
   ]
  },
  {
   "cell_type": "code",
   "execution_count": null,
   "id": "edaae9fc-8722-49ab-a7a2-3cda744d4c4a",
   "metadata": {
    "tags": []
   },
   "outputs": [],
   "source": [
    "diff = (g.sel(year=2021) - g.sel(year=2020)).values\n",
    "\n",
    "from sklearn.metrics import mean_absolute_percentage_error\n",
    "\n",
    "mape = (\n",
    "    mean_absolute_percentage_error(\n",
    "        [g.sel(year=2021).to_numpy()],\n",
    "        [g.sel(year=2020).to_numpy()],\n",
    "    )\n",
    "    * 100\n",
    ")\n",
    "\n",
    "print(f\"The peak temeperature different between 2021 and 2020 was {diff:.2f} {units}\")\n",
    "print(f\"That's {mape:.2f} percent hotter\")"
   ]
  },
  {
   "cell_type": "markdown",
   "id": "b64d8511-a9a3-4552-8dad-233c893f96e9",
   "metadata": {},
   "source": [
    "# Q3. During the peak of the heatwave where else in the world was hotter than Portland?"
   ]
  },
  {
   "cell_type": "code",
   "execution_count": null,
   "id": "c68d9ef1-28f5-479c-9709-11ce9df6ecf9",
   "metadata": {
    "tags": []
   },
   "outputs": [],
   "source": [
    "import pytz\n",
    "\n",
    "dt_utc = ts.astimezone(pytz.timezone(\"UTC\")).replace(tzinfo=None)\n",
    "\n",
    "da_ts = (\n",
    "    xr.open_zarr(\n",
    "        f\"s3://era5-pds/zarr/{dt_utc:%Y}/{dt_utc:%m}/data/air_temperature_at_2_metres.zarr\",\n",
    "        storage_options={\"anon\": True},\n",
    "    )[\"air_temperature_at_2_metres\"].sel(time0=dt_utc)\n",
    ").compute()"
   ]
  },
  {
   "cell_type": "markdown",
   "id": "c77b336e-f31a-482c-9a54-df14552b2266",
   "metadata": {},
   "source": [
    "Convert degrees Kelvin to degrees Fahrenheit using https://pint-xarray.readthedocs.io/en/latest/"
   ]
  },
  {
   "cell_type": "code",
   "execution_count": null,
   "id": "e56a0029-1908-41d2-86a2-efc74e746e6b",
   "metadata": {
    "tags": []
   },
   "outputs": [],
   "source": [
    "da_ts = da_ts.pint.quantify().pint.to(\"degF\").pint.dequantify(format=\"~P\")"
   ]
  },
  {
   "cell_type": "markdown",
   "id": "05648ae6-9b53-4e0b-9bc1-ee8087e37561",
   "metadata": {},
   "source": [
    "Convert longitude from 0 - 360 to -180 - 180"
   ]
  },
  {
   "cell_type": "code",
   "execution_count": null,
   "id": "f53e8afd-d88a-45ca-9666-65a448d8d07c",
   "metadata": {
    "tags": []
   },
   "outputs": [],
   "source": [
    "with xr.set_options(keep_attrs=True):\n",
    "    da_ts = da_ts.assign_coords({\"lon\": (((da_ts[\"lon\"] + 180) % 360) - 180)}).sortby(\n",
    "        \"lon\"\n",
    "    )"
   ]
  },
  {
   "cell_type": "markdown",
   "id": "33c2c2fb-00e1-4908-88eb-21cb18934329",
   "metadata": {
    "execution": {
     "iopub.execute_input": "2021-09-08T02:14:58.758749Z",
     "iopub.status.busy": "2021-09-08T02:14:58.758505Z",
     "iopub.status.idle": "2021-09-08T02:14:58.763826Z",
     "shell.execute_reply": "2021-09-08T02:14:58.762710Z",
     "shell.execute_reply.started": "2021-09-08T02:14:58.758724Z"
    }
   },
   "source": [
    "Reindex latitude to from 90 - -90 to -90 - 90 "
   ]
  },
  {
   "cell_type": "code",
   "execution_count": null,
   "id": "6041f142-cd0e-4c87-814b-ca2d23123292",
   "metadata": {
    "tags": []
   },
   "outputs": [],
   "source": [
    "da_ts = da_ts.reindex({\"lat\": da_ts[\"lat\"][::-1]})\n",
    "da_ts"
   ]
  },
  {
   "cell_type": "markdown",
   "id": "5d94df7f-3c06-404e-963a-49ac5394cf0f",
   "metadata": {},
   "source": [
    "Check the data was read in correctly:"
   ]
  },
  {
   "cell_type": "code",
   "execution_count": null,
   "id": "fdc39c5a-1811-43a7-be3a-975b69b03fdd",
   "metadata": {},
   "outputs": [],
   "source": [
    "da_ts.sel(lat=lat, lon=lon - 360, method=\"nearest\")"
   ]
  },
  {
   "cell_type": "markdown",
   "id": "72409f82-6574-4f81-9266-2765330bac34",
   "metadata": {},
   "source": [
    "Plot the spatial data using cartopy:"
   ]
  },
  {
   "cell_type": "code",
   "execution_count": null,
   "id": "0efded36-6cc2-44a9-aa56-f7f0aef99516",
   "metadata": {
    "tags": []
   },
   "outputs": [],
   "source": [
    "import cartopy.crs as ccrs\n",
    "import matplotlib.pyplot as plt\n",
    "\n",
    "plt.figure(figsize=(16, 8))\n",
    "ax = plt.subplot(projection=ccrs.PlateCarree())\n",
    "da_ts.plot(ax=ax, cmap=plt.cm.viridis)\n",
    "ax.coastlines()\n",
    "ax.gridlines(draw_labels=True);"
   ]
  },
  {
   "cell_type": "markdown",
   "id": "efb81fd0-d4f9-4638-8d15-aaec490fbed7",
   "metadata": {},
   "source": [
    "Create an interactive map using Geoviews https://geoviews.org/index.html"
   ]
  },
  {
   "cell_type": "code",
   "execution_count": null,
   "id": "69765835-1386-42bf-a15c-3092a3074daa",
   "metadata": {
    "tags": []
   },
   "outputs": [],
   "source": [
    "import geoviews as gv\n",
    "\n",
    "gv_da_ts = gv.Dataset(da_ts)\n",
    "gv_img = gv_da_ts.to(gv.Image, kdims=[\"lon\", \"lat\"])\n",
    "\n",
    "from holoviews.operation.datashader import rasterize\n",
    "\n",
    "gv_raster = rasterize(gv_img)\n",
    "\n",
    "# Download a populous city dataset\n",
    "import geopandas as gpd\n",
    "\n",
    "cities = gpd.read_file(\n",
    "    \"https://naturalearth.s3.amazonaws.com/10m_cultural/ne_10m_populated_places.zip\"\n",
    ")[[\"NAME\", \"geometry\"]]\n",
    "gv_pts = gv.Points(cities)\n",
    "\n",
    "# Overlay layers: raster (temperature), coastlines, country boarders, state boarders, capital cities\n",
    "# with custom plotting options\n",
    "import geoviews.feature as gf\n",
    "\n",
    "gv_raster.opts(\n",
    "    tools=[\"hover\"],\n",
    "    width=1000,\n",
    "    height=600,\n",
    "    cmap=plt.cm.viridis.name,\n",
    "    colorbar=True,\n",
    "    colorbar_position=\"right\",\n",
    ") * gf.coastline() * gf.borders() * gf.states(color=None) * gv_pts.opts(\n",
    "    tools=[\"hover\"], color=\"black\", size=2\n",
    ")"
   ]
  },
  {
   "cell_type": "markdown",
   "id": "91dccaef-9ad8-46b3-a178-47f9878e711c",
   "metadata": {},
   "source": [
    "Flatten the 2d array to 1d"
   ]
  },
  {
   "cell_type": "code",
   "execution_count": null,
   "id": "4b813071-33f2-4ab8-9031-ed97457c1bfe",
   "metadata": {
    "tags": []
   },
   "outputs": [],
   "source": [
    "da_ts_1d = da_ts.stack({\"point\": [\"lat\", \"lon\"]})\n",
    "da_ts_1d"
   ]
  },
  {
   "cell_type": "markdown",
   "id": "bec752d4-d408-463a-895c-90738907f11b",
   "metadata": {},
   "source": [
    "sort values"
   ]
  },
  {
   "cell_type": "code",
   "execution_count": null,
   "id": "b12f71e4-050a-4d66-a201-b80af2577577",
   "metadata": {
    "tags": []
   },
   "outputs": [],
   "source": [
    "da_ts_1d_sorted = da_ts_1d.sortby(da_ts_1d)\n",
    "da_ts_1d_sorted"
   ]
  },
  {
   "cell_type": "markdown",
   "id": "82c2d1f7-cf67-4a93-b014-8fec8ea02de5",
   "metadata": {},
   "source": [
    "Keep values greater than the temperature in portland"
   ]
  },
  {
   "cell_type": "code",
   "execution_count": null,
   "id": "2db5ca4f-d52d-4eed-8424-903d2d4ded67",
   "metadata": {
    "tags": []
   },
   "outputs": [],
   "source": [
    "da_ts_1d_sorted.where(da_ts_1d_sorted >= max_temp, drop=True)"
   ]
  },
  {
   "cell_type": "code",
   "execution_count": null,
   "id": "9dcadd89-859c-4ef9-ab63-f241d1f3c475",
   "metadata": {
    "tags": []
   },
   "outputs": [],
   "source": [
    "points_hotter_than_portland = da_ts_1d_sorted.where(\n",
    "    da_ts_1d_sorted >= max_temp, drop=True\n",
    ")\n",
    "points_hotter_than_portland"
   ]
  },
  {
   "cell_type": "markdown",
   "id": "0d02de88-4de0-42f0-adbc-044a08eadb6c",
   "metadata": {},
   "source": [
    "## A3. During the peak of the heatwave where else in the world was hotter than Portland?"
   ]
  },
  {
   "cell_type": "code",
   "execution_count": null,
   "id": "4aa9e637-bb46-42cb-aef3-0c922e1f6c53",
   "metadata": {
    "tags": []
   },
   "outputs": [],
   "source": [
    "locs = []\n",
    "for p in points_hotter_than_portland[\"point\"].values:\n",
    "    loc = geolocator.reverse(p)\n",
    "    if \"Portland\" not in str(loc):\n",
    "        print(\"y\")\n",
    "        locs.append(loc)\n",
    "if len(locs) == 0:\n",
    "    print(\"Nowhere!\")"
   ]
  },
  {
   "cell_type": "code",
   "execution_count": null,
   "id": "ee1f2a6b-9ad7-42a9-ae46-137bd0fd57f8",
   "metadata": {},
   "outputs": [],
   "source": []
  }
 ],
 "metadata": {
  "kernelspec": {
   "display_name": "Python 3 (ipykernel)",
   "language": "python",
   "name": "python3"
  },
  "language_info": {
   "codemirror_mode": {
    "name": "ipython",
    "version": 3
   },
   "file_extension": ".py",
   "mimetype": "text/x-python",
   "name": "python",
   "nbconvert_exporter": "python",
   "pygments_lexer": "ipython3",
   "version": "3.9.7"
  },
  "toc-autonumbering": false
 },
 "nbformat": 4,
 "nbformat_minor": 5
}
